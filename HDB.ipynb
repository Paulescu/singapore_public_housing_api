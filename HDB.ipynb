{
 "cells": [
  {
   "cell_type": "markdown",
   "metadata": {},
   "source": [
    "# Predicting sale price of flat\n",
    "\n",
    "## Background\n",
    "In Singapore, close to 80% of the population live in public housing. These are heavily subsidised by the government and as such, strict rules have been implemented to ensure the subsidies are not being misused. One such rule is that every couple is not to own more than a single subsidised property at any one time. \n",
    "\n",
    "## Project Motivation\n",
    "I am interested in finding the potential selling price of my flat in 3 years. The main objective of this project is to provide an estimate of the expected retail price for the flat in due time. In this project, I will use a variety of regression models to make predictions on the potential selling price, rather than to take the prediction of a single model. This is to showcase the relative effectiveness of the various models for the present purpose -- predict sale price of a flat given historical transaction data.\n",
    "\n",
    "## Data Collection\n",
    "Transaction data of public flats have been dilligently chronicled [here](https://data.gov.sg/dataset/resale-flat-prices). In the final version of the project, the data will be obtained from a json object from an API call. In the initial version(s), the entire dataset will be downloaded and fed to the project in a `pandas` dataframe. Operations such as cleaning and grouping will then be performed on the dataframe itself."
   ]
  },
  {
   "cell_type": "markdown",
   "metadata": {},
   "source": [
    "### Inspiration from GovTech DSAID blog\n",
    "\n",
    "Before going on to the project I would like to acknowledge that a huge part of this project is inspired from a [blog](https://medium.com/dsaid-govtech/wanted-data-scientists-how-we-designed-our-first-case-interview-9fd4eaa4607c) written by the [Data Science and Artificial Intelligence Division (DSAID)](https://medium.com/dsaid-govtech) of a governmental agency called GovTech. They have been pushed to the forefront since the COVID-19 pandemic hit Singapore. A familiar (and valuable) product developed by DSAID was the TraceTogether Token (and its associated App). \n",
    "\n",
    "For those who are unfamiliar, the token collects data via bluetooth signals, such as proximity data, duration in proximity data and places visited (We are supposed to scan for entry at the entrance of facilities like shopping malls). In the early days, this token expidited contact tracing of people exposed to others who were subsequently identified as COVID-positive, facilitating rapid isolation to supress the spread of the virus. If an individual had been shown to be in the proximity of a (subsequently identified) positive individual using data from the token, he/she will also receive a message to perform health monitoring for the requisite number of days.\n",
    "\n",
    "After seeing the impact they have on the life on Singaporeans, after launching useful products like the TraceTogether Token and App, I thought what they are doing is very meaningful and creates impact in our everyday lives. I am sure the job there will be sufficiently motivating in and of itself.\n",
    "\n",
    "I would want to start off with using the OneMap API to geocode the lat-long coordinates just for the fun of it. Intuitively, I do not think that should affect the selling price anymore than the 'Town' feature. Including it is purely for practice on calling information from APIs.\n",
    "\n",
    "First, the essential libraries..."
   ]
  },
  {
   "cell_type": "code",
   "execution_count": 1,
   "metadata": {},
   "outputs": [],
   "source": [
    "import pandas as pd\n",
    "import numpy as np\n",
    "import requests as req\n",
    "from matplotlib import pyplot as plt\n",
    "import json\n",
    "import seaborn as sns\n",
    "import re\n",
    "from datetime import date\n",
    "from sklearn.preprocessing import OneHotEncoder, OrdinalEncoder\n",
    "from sklearn.model_selection import train_test_split\n",
    "from sklearn.linear_model import LinearRegression\n",
    "from sklearn.metrics import mean_squared_error"
   ]
  },
  {
   "cell_type": "markdown",
   "metadata": {},
   "source": [
    "Based on the information on [HDB API](https://data.gov.sg/dataset/resale-flat-prices), we can find the API query string as follows. We will perform our entire analysis using our entire dataset of 92,270 entries(correct as of the time of writing).\n"
   ]
  },
  {
   "cell_type": "code",
   "execution_count": 2,
   "metadata": {},
   "outputs": [
    {
     "data": {
      "text/plain": [
       "200"
      ]
     },
     "execution_count": 2,
     "metadata": {},
     "output_type": "execute_result"
    }
   ],
   "source": [
    "\n",
    "query_str = 'https://data.gov.sg/api/action/datastore_search?resource_id=f1765b54-a209-4718-8d38-a39237f502b3&limit=500'\n",
    "response = req.get(query_str)\n",
    "response.status_code"
   ]
  },
  {
   "cell_type": "markdown",
   "metadata": {},
   "source": [
    "A side note on the response obtained from the **requests** library. A *status_code* of 200 implies that the request was successful. Otherwise the response code would have been *404 NOT FOUND*. Other possible status codes can be found [here](https://en.wikipedia.org/wiki/List_of_HTTP_status_codes)."
   ]
  },
  {
   "cell_type": "code",
   "execution_count": 3,
   "metadata": {},
   "outputs": [
    {
     "data": {
      "text/plain": [
       "dict"
      ]
     },
     "execution_count": 3,
     "metadata": {},
     "output_type": "execute_result"
    }
   ],
   "source": [
    "data = json.loads(response.content)\n",
    "type(data)"
   ]
  },
  {
   "cell_type": "code",
   "execution_count": 4,
   "metadata": {},
   "outputs": [
    {
     "data": {
      "text/plain": [
       "500"
      ]
     },
     "execution_count": 4,
     "metadata": {},
     "output_type": "execute_result"
    }
   ],
   "source": [
    "len(data['result']['records'])"
   ]
  },
  {
   "cell_type": "markdown",
   "metadata": {},
   "source": [
    "## The Data\n",
    "As mentioned, in the initial version(s), the data is obtained from a downloaded `.csv` file and read into a dataframe. This will be changed to an API call in the final version. After that, check that the dataset has been properly read and explore some features of the data such as the number of columns, the number of rows and the type of every column.\n",
    "\n",
    "Even though data from the 1990's are available, they are probably outdated due to the numerous policy implementations over the years. We will only use the most recent data from 2017 onwards."
   ]
  },
  {
   "cell_type": "code",
   "execution_count": 5,
   "metadata": {},
   "outputs": [
    {
     "data": {
      "text/html": [
       "<div>\n",
       "<style scoped>\n",
       "    .dataframe tbody tr th:only-of-type {\n",
       "        vertical-align: middle;\n",
       "    }\n",
       "\n",
       "    .dataframe tbody tr th {\n",
       "        vertical-align: top;\n",
       "    }\n",
       "\n",
       "    .dataframe thead th {\n",
       "        text-align: right;\n",
       "    }\n",
       "</style>\n",
       "<table border=\"1\" class=\"dataframe\">\n",
       "  <thead>\n",
       "    <tr style=\"text-align: right;\">\n",
       "      <th></th>\n",
       "      <th>month</th>\n",
       "      <th>town</th>\n",
       "      <th>flat_type</th>\n",
       "      <th>block</th>\n",
       "      <th>street_name</th>\n",
       "      <th>storey_range</th>\n",
       "      <th>floor_area_sqm</th>\n",
       "      <th>flat_model</th>\n",
       "      <th>lease_commence_date</th>\n",
       "      <th>remaining_lease</th>\n",
       "      <th>resale_price</th>\n",
       "    </tr>\n",
       "  </thead>\n",
       "  <tbody>\n",
       "    <tr>\n",
       "      <th>0</th>\n",
       "      <td>2017-01</td>\n",
       "      <td>ANG MO KIO</td>\n",
       "      <td>2 ROOM</td>\n",
       "      <td>406</td>\n",
       "      <td>ANG MO KIO AVE 10</td>\n",
       "      <td>10 TO 12</td>\n",
       "      <td>44.0</td>\n",
       "      <td>Improved</td>\n",
       "      <td>1979</td>\n",
       "      <td>61 years 04 months</td>\n",
       "      <td>232000.0</td>\n",
       "    </tr>\n",
       "    <tr>\n",
       "      <th>1</th>\n",
       "      <td>2017-01</td>\n",
       "      <td>ANG MO KIO</td>\n",
       "      <td>3 ROOM</td>\n",
       "      <td>108</td>\n",
       "      <td>ANG MO KIO AVE 4</td>\n",
       "      <td>01 TO 03</td>\n",
       "      <td>67.0</td>\n",
       "      <td>New Generation</td>\n",
       "      <td>1978</td>\n",
       "      <td>60 years 07 months</td>\n",
       "      <td>250000.0</td>\n",
       "    </tr>\n",
       "    <tr>\n",
       "      <th>2</th>\n",
       "      <td>2017-01</td>\n",
       "      <td>ANG MO KIO</td>\n",
       "      <td>3 ROOM</td>\n",
       "      <td>602</td>\n",
       "      <td>ANG MO KIO AVE 5</td>\n",
       "      <td>01 TO 03</td>\n",
       "      <td>67.0</td>\n",
       "      <td>New Generation</td>\n",
       "      <td>1980</td>\n",
       "      <td>62 years 05 months</td>\n",
       "      <td>262000.0</td>\n",
       "    </tr>\n",
       "    <tr>\n",
       "      <th>3</th>\n",
       "      <td>2017-01</td>\n",
       "      <td>ANG MO KIO</td>\n",
       "      <td>3 ROOM</td>\n",
       "      <td>465</td>\n",
       "      <td>ANG MO KIO AVE 10</td>\n",
       "      <td>04 TO 06</td>\n",
       "      <td>68.0</td>\n",
       "      <td>New Generation</td>\n",
       "      <td>1980</td>\n",
       "      <td>62 years 01 month</td>\n",
       "      <td>265000.0</td>\n",
       "    </tr>\n",
       "    <tr>\n",
       "      <th>4</th>\n",
       "      <td>2017-01</td>\n",
       "      <td>ANG MO KIO</td>\n",
       "      <td>3 ROOM</td>\n",
       "      <td>601</td>\n",
       "      <td>ANG MO KIO AVE 5</td>\n",
       "      <td>01 TO 03</td>\n",
       "      <td>67.0</td>\n",
       "      <td>New Generation</td>\n",
       "      <td>1980</td>\n",
       "      <td>62 years 05 months</td>\n",
       "      <td>265000.0</td>\n",
       "    </tr>\n",
       "  </tbody>\n",
       "</table>\n",
       "</div>"
      ],
      "text/plain": [
       "     month        town flat_type block        street_name storey_range  \\\n",
       "0  2017-01  ANG MO KIO    2 ROOM   406  ANG MO KIO AVE 10     10 TO 12   \n",
       "1  2017-01  ANG MO KIO    3 ROOM   108   ANG MO KIO AVE 4     01 TO 03   \n",
       "2  2017-01  ANG MO KIO    3 ROOM   602   ANG MO KIO AVE 5     01 TO 03   \n",
       "3  2017-01  ANG MO KIO    3 ROOM   465  ANG MO KIO AVE 10     04 TO 06   \n",
       "4  2017-01  ANG MO KIO    3 ROOM   601   ANG MO KIO AVE 5     01 TO 03   \n",
       "\n",
       "   floor_area_sqm      flat_model  lease_commence_date     remaining_lease  \\\n",
       "0            44.0        Improved                 1979  61 years 04 months   \n",
       "1            67.0  New Generation                 1978  60 years 07 months   \n",
       "2            67.0  New Generation                 1980  62 years 05 months   \n",
       "3            68.0  New Generation                 1980   62 years 01 month   \n",
       "4            67.0  New Generation                 1980  62 years 05 months   \n",
       "\n",
       "   resale_price  \n",
       "0      232000.0  \n",
       "1      250000.0  \n",
       "2      262000.0  \n",
       "3      265000.0  \n",
       "4      265000.0  "
      ]
     },
     "execution_count": 5,
     "metadata": {},
     "output_type": "execute_result"
    }
   ],
   "source": [
    "df = pd.read_csv(\"data/resale-flat-prices-based-on-registration-date-from-jan-2017-onwards.csv\")\n",
    "df.head()"
   ]
  },
  {
   "cell_type": "markdown",
   "metadata": {},
   "source": [
    "### Brief explanation of columns\n",
    "The various dates within the dataset may appear strage to someone not staying in Singapore. Most HDB flats come with a default 99-year lease from the government. At the end of the 99 years, the government reserve the right to repossess the land on which the flat is built for other developments. This is largely due to the lack of geographic mass of the country, which drives up the price of land and properties.\n",
    "\n",
    "An additional note is that the `month` column contains data on when the associated flat is sold on the second-hand market. Feel free to refer to the metadata file for explanations to the context of other columns."
   ]
  },
  {
   "cell_type": "code",
   "execution_count": 6,
   "metadata": {},
   "outputs": [
    {
     "data": {
      "text/plain": [
       "(131560, 11)"
      ]
     },
     "execution_count": 6,
     "metadata": {},
     "output_type": "execute_result"
    }
   ],
   "source": [
    "df.shape"
   ]
  },
  {
   "cell_type": "markdown",
   "metadata": {},
   "source": [
    "We see that there are a total of 131560 entries, which should be enough for a small project.\n",
    "\n",
    "### Data type of columns"
   ]
  },
  {
   "cell_type": "code",
   "execution_count": 7,
   "metadata": {},
   "outputs": [
    {
     "name": "stdout",
     "output_type": "stream",
     "text": [
      "<class 'pandas.core.frame.DataFrame'>\n",
      "RangeIndex: 131560 entries, 0 to 131559\n",
      "Data columns (total 11 columns):\n",
      " #   Column               Non-Null Count   Dtype  \n",
      "---  ------               --------------   -----  \n",
      " 0   month                131560 non-null  object \n",
      " 1   town                 131560 non-null  object \n",
      " 2   flat_type            131560 non-null  object \n",
      " 3   block                131560 non-null  object \n",
      " 4   street_name          131560 non-null  object \n",
      " 5   storey_range         131560 non-null  object \n",
      " 6   floor_area_sqm       131560 non-null  float64\n",
      " 7   flat_model           131560 non-null  object \n",
      " 8   lease_commence_date  131560 non-null  int64  \n",
      " 9   remaining_lease      131560 non-null  object \n",
      " 10  resale_price         131560 non-null  float64\n",
      "dtypes: float64(2), int64(1), object(8)\n",
      "memory usage: 11.0+ MB\n"
     ]
    }
   ],
   "source": [
    "df.info()"
   ]
  },
  {
   "cell_type": "markdown",
   "metadata": {},
   "source": [
    "As seen above, most of the columns are classified as `object`, even though some of them contains useful numerical data, such as `flat_type`, `storey_range` and `month`. With all else being equal, the higher the value of `storey_range`, the higher the resale price. This is due to Singaporeans' inherent preference for flats on a higher level. In this section, we will transform them into the appropriate forms.\n",
    "\n",
    "First we extract the `year` and `month` value from the resale date, and thereafter dropping it since our model does not take in `datetime` type as a feature.\n",
    "\n",
    "Columns such as `town`, `flat_type` and `flat_model` will be One-hot encoded as they contain information about different categories of flats, with no inherent order. Features like `storey_range` on the other land will be transformed using `OrdinalEncoder` since the value of the category has an effect on the resale price (take it from a Singaporean who has stayed here all his life!)."
   ]
  },
  {
   "cell_type": "code",
   "execution_count": 8,
   "metadata": {},
   "outputs": [],
   "source": [
    "# df.rename({'month': 'sale_date'}, axis=1, inplace=True)\n",
    "df['sale_date'] = pd.to_datetime(df['month'], format=\"%Y-%m\")\n",
    "df['sale_year'] = df['sale_date'].dt.year\n",
    "df['sale_month'] = df['sale_date'].dt.month\n",
    "df.drop(['sale_date', 'month'], axis=1, inplace=True)"
   ]
  },
  {
   "cell_type": "markdown",
   "metadata": {},
   "source": [
    "### Handling `remaining_lease`\n",
    "The amount of remaining lease affects the resale price in an indirect way. As mentioned, the maximum lease for HDB flats is currently at 99 years. Hence, the longer the remaining lease, the more valuable the flat is."
   ]
  },
  {
   "cell_type": "code",
   "execution_count": 9,
   "metadata": {},
   "outputs": [
    {
     "data": {
      "text/html": [
       "<div>\n",
       "<style scoped>\n",
       "    .dataframe tbody tr th:only-of-type {\n",
       "        vertical-align: middle;\n",
       "    }\n",
       "\n",
       "    .dataframe tbody tr th {\n",
       "        vertical-align: top;\n",
       "    }\n",
       "\n",
       "    .dataframe thead th {\n",
       "        text-align: right;\n",
       "    }\n",
       "</style>\n",
       "<table border=\"1\" class=\"dataframe\">\n",
       "  <thead>\n",
       "    <tr style=\"text-align: right;\">\n",
       "      <th></th>\n",
       "      <th>town</th>\n",
       "      <th>flat_type</th>\n",
       "      <th>block</th>\n",
       "      <th>street_name</th>\n",
       "      <th>storey_range</th>\n",
       "      <th>floor_area_sqm</th>\n",
       "      <th>flat_model</th>\n",
       "      <th>resale_price</th>\n",
       "      <th>sale_year</th>\n",
       "      <th>sale_month</th>\n",
       "      <th>years_remaining</th>\n",
       "      <th>months_remaining</th>\n",
       "    </tr>\n",
       "  </thead>\n",
       "  <tbody>\n",
       "    <tr>\n",
       "      <th>0</th>\n",
       "      <td>ANG MO KIO</td>\n",
       "      <td>2 ROOM</td>\n",
       "      <td>406</td>\n",
       "      <td>ANG MO KIO AVE 10</td>\n",
       "      <td>10 TO 12</td>\n",
       "      <td>44.0</td>\n",
       "      <td>Improved</td>\n",
       "      <td>232000.0</td>\n",
       "      <td>2017</td>\n",
       "      <td>1</td>\n",
       "      <td>61</td>\n",
       "      <td>4</td>\n",
       "    </tr>\n",
       "    <tr>\n",
       "      <th>1</th>\n",
       "      <td>ANG MO KIO</td>\n",
       "      <td>3 ROOM</td>\n",
       "      <td>108</td>\n",
       "      <td>ANG MO KIO AVE 4</td>\n",
       "      <td>01 TO 03</td>\n",
       "      <td>67.0</td>\n",
       "      <td>New Generation</td>\n",
       "      <td>250000.0</td>\n",
       "      <td>2017</td>\n",
       "      <td>1</td>\n",
       "      <td>60</td>\n",
       "      <td>7</td>\n",
       "    </tr>\n",
       "    <tr>\n",
       "      <th>2</th>\n",
       "      <td>ANG MO KIO</td>\n",
       "      <td>3 ROOM</td>\n",
       "      <td>602</td>\n",
       "      <td>ANG MO KIO AVE 5</td>\n",
       "      <td>01 TO 03</td>\n",
       "      <td>67.0</td>\n",
       "      <td>New Generation</td>\n",
       "      <td>262000.0</td>\n",
       "      <td>2017</td>\n",
       "      <td>1</td>\n",
       "      <td>62</td>\n",
       "      <td>5</td>\n",
       "    </tr>\n",
       "    <tr>\n",
       "      <th>3</th>\n",
       "      <td>ANG MO KIO</td>\n",
       "      <td>3 ROOM</td>\n",
       "      <td>465</td>\n",
       "      <td>ANG MO KIO AVE 10</td>\n",
       "      <td>04 TO 06</td>\n",
       "      <td>68.0</td>\n",
       "      <td>New Generation</td>\n",
       "      <td>265000.0</td>\n",
       "      <td>2017</td>\n",
       "      <td>1</td>\n",
       "      <td>62</td>\n",
       "      <td>1</td>\n",
       "    </tr>\n",
       "    <tr>\n",
       "      <th>4</th>\n",
       "      <td>ANG MO KIO</td>\n",
       "      <td>3 ROOM</td>\n",
       "      <td>601</td>\n",
       "      <td>ANG MO KIO AVE 5</td>\n",
       "      <td>01 TO 03</td>\n",
       "      <td>67.0</td>\n",
       "      <td>New Generation</td>\n",
       "      <td>265000.0</td>\n",
       "      <td>2017</td>\n",
       "      <td>1</td>\n",
       "      <td>62</td>\n",
       "      <td>5</td>\n",
       "    </tr>\n",
       "  </tbody>\n",
       "</table>\n",
       "</div>"
      ],
      "text/plain": [
       "         town flat_type block        street_name storey_range  floor_area_sqm  \\\n",
       "0  ANG MO KIO    2 ROOM   406  ANG MO KIO AVE 10     10 TO 12            44.0   \n",
       "1  ANG MO KIO    3 ROOM   108   ANG MO KIO AVE 4     01 TO 03            67.0   \n",
       "2  ANG MO KIO    3 ROOM   602   ANG MO KIO AVE 5     01 TO 03            67.0   \n",
       "3  ANG MO KIO    3 ROOM   465  ANG MO KIO AVE 10     04 TO 06            68.0   \n",
       "4  ANG MO KIO    3 ROOM   601   ANG MO KIO AVE 5     01 TO 03            67.0   \n",
       "\n",
       "       flat_model  resale_price  sale_year  sale_month  years_remaining  \\\n",
       "0        Improved      232000.0       2017           1               61   \n",
       "1  New Generation      250000.0       2017           1               60   \n",
       "2  New Generation      262000.0       2017           1               62   \n",
       "3  New Generation      265000.0       2017           1               62   \n",
       "4  New Generation      265000.0       2017           1               62   \n",
       "\n",
       "   months_remaining  \n",
       "0                 4  \n",
       "1                 7  \n",
       "2                 5  \n",
       "3                 1  \n",
       "4                 5  "
      ]
     },
     "execution_count": 9,
     "metadata": {},
     "output_type": "execute_result"
    }
   ],
   "source": [
    "df['years_remaining'] = df['remaining_lease'].apply(lambda x: int(x.split()[0]))\n",
    "df['months_remaining'] = df['remaining_lease'].apply(lambda x: int(x.split(\" \")[-2]))\n",
    "df.drop([\"remaining_lease\", \"lease_commence_date\"], axis=1, inplace=True)\n",
    "df.head()"
   ]
  },
  {
   "cell_type": "code",
   "execution_count": 10,
   "metadata": {},
   "outputs": [
    {
     "data": {
      "text/plain": [
       "array(['10 TO 12', '01 TO 03', '04 TO 06', '07 TO 09', '13 TO 15',\n",
       "       '19 TO 21', '22 TO 24', '16 TO 18', '34 TO 36', '28 TO 30',\n",
       "       '37 TO 39', '49 TO 51', '25 TO 27', '40 TO 42', '31 TO 33',\n",
       "       '46 TO 48', '43 TO 45'], dtype=object)"
      ]
     },
     "execution_count": 10,
     "metadata": {},
     "output_type": "execute_result"
    }
   ],
   "source": [
    "df['storey_range'].unique()"
   ]
  },
  {
   "cell_type": "code",
   "execution_count": 11,
   "metadata": {},
   "outputs": [],
   "source": [
    "from sklearn.preprocessing import OrdinalEncoder\n",
    "\n",
    "storey_cat = ['01 TO 03', '04 TO 06', '07 TO 09', '10 TO 12', '13 TO 15', '16 TO 18', \n",
    "                '19 TO 21', '22 TO 24', '25 TO 27', '28 TO 30', '31 TO 33', '34 TO 36',\n",
    "                '37 TO 39', '40 TO 42', '43 TO 45', '46 TO 48', '49 TO 51']\n",
    "oe = OrdinalEncoder(categories=[storey_cat], dtype=int)\n",
    "df[\"storey\"] = oe.fit_transform(df[[\"storey_range\"]])"
   ]
  },
  {
   "cell_type": "code",
   "execution_count": 12,
   "metadata": {},
   "outputs": [
    {
     "data": {
      "text/plain": [
       "Index(['town', 'flat_type', 'block', 'street_name', 'storey_range',\n",
       "       'floor_area_sqm', 'flat_model', 'resale_price', 'sale_year',\n",
       "       'sale_month', 'years_remaining', 'months_remaining', 'storey'],\n",
       "      dtype='object')"
      ]
     },
     "execution_count": 12,
     "metadata": {},
     "output_type": "execute_result"
    }
   ],
   "source": [
    "df.columns"
   ]
  },
  {
   "cell_type": "code",
   "execution_count": 13,
   "metadata": {},
   "outputs": [
    {
     "name": "stderr",
     "output_type": "stream",
     "text": [
      "/home/ahwz84/miniconda3/envs/messy/lib/python3.9/site-packages/sklearn/utils/deprecation.py:87: FutureWarning: Function get_feature_names is deprecated; get_feature_names is deprecated in 1.0 and will be removed in 1.2. Please use get_feature_names_out instead.\n",
      "  warnings.warn(msg, category=FutureWarning)\n"
     ]
    },
    {
     "data": {
      "text/html": [
       "<div>\n",
       "<style scoped>\n",
       "    .dataframe tbody tr th:only-of-type {\n",
       "        vertical-align: middle;\n",
       "    }\n",
       "\n",
       "    .dataframe tbody tr th {\n",
       "        vertical-align: top;\n",
       "    }\n",
       "\n",
       "    .dataframe thead th {\n",
       "        text-align: right;\n",
       "    }\n",
       "</style>\n",
       "<table border=\"1\" class=\"dataframe\">\n",
       "  <thead>\n",
       "    <tr style=\"text-align: right;\">\n",
       "      <th></th>\n",
       "      <th>town</th>\n",
       "      <th>flat_type</th>\n",
       "      <th>block</th>\n",
       "      <th>street_name</th>\n",
       "      <th>storey_range</th>\n",
       "      <th>floor_area_sqm</th>\n",
       "      <th>flat_model</th>\n",
       "      <th>resale_price</th>\n",
       "      <th>sale_year</th>\n",
       "      <th>sale_month</th>\n",
       "      <th>...</th>\n",
       "      <th>x2_Multi Generation</th>\n",
       "      <th>x2_New Generation</th>\n",
       "      <th>x2_Premium Apartment</th>\n",
       "      <th>x2_Premium Apartment Loft</th>\n",
       "      <th>x2_Premium Maisonette</th>\n",
       "      <th>x2_Simplified</th>\n",
       "      <th>x2_Standard</th>\n",
       "      <th>x2_Terrace</th>\n",
       "      <th>x2_Type S1</th>\n",
       "      <th>x2_Type S2</th>\n",
       "    </tr>\n",
       "  </thead>\n",
       "  <tbody>\n",
       "    <tr>\n",
       "      <th>0</th>\n",
       "      <td>ANG MO KIO</td>\n",
       "      <td>2 ROOM</td>\n",
       "      <td>406</td>\n",
       "      <td>ANG MO KIO AVE 10</td>\n",
       "      <td>10 TO 12</td>\n",
       "      <td>44.0</td>\n",
       "      <td>Improved</td>\n",
       "      <td>232000.0</td>\n",
       "      <td>2017</td>\n",
       "      <td>1</td>\n",
       "      <td>...</td>\n",
       "      <td>0</td>\n",
       "      <td>0</td>\n",
       "      <td>0</td>\n",
       "      <td>0</td>\n",
       "      <td>0</td>\n",
       "      <td>0</td>\n",
       "      <td>0</td>\n",
       "      <td>0</td>\n",
       "      <td>0</td>\n",
       "      <td>0</td>\n",
       "    </tr>\n",
       "    <tr>\n",
       "      <th>1</th>\n",
       "      <td>ANG MO KIO</td>\n",
       "      <td>3 ROOM</td>\n",
       "      <td>108</td>\n",
       "      <td>ANG MO KIO AVE 4</td>\n",
       "      <td>01 TO 03</td>\n",
       "      <td>67.0</td>\n",
       "      <td>New Generation</td>\n",
       "      <td>250000.0</td>\n",
       "      <td>2017</td>\n",
       "      <td>1</td>\n",
       "      <td>...</td>\n",
       "      <td>0</td>\n",
       "      <td>1</td>\n",
       "      <td>0</td>\n",
       "      <td>0</td>\n",
       "      <td>0</td>\n",
       "      <td>0</td>\n",
       "      <td>0</td>\n",
       "      <td>0</td>\n",
       "      <td>0</td>\n",
       "      <td>0</td>\n",
       "    </tr>\n",
       "    <tr>\n",
       "      <th>2</th>\n",
       "      <td>ANG MO KIO</td>\n",
       "      <td>3 ROOM</td>\n",
       "      <td>602</td>\n",
       "      <td>ANG MO KIO AVE 5</td>\n",
       "      <td>01 TO 03</td>\n",
       "      <td>67.0</td>\n",
       "      <td>New Generation</td>\n",
       "      <td>262000.0</td>\n",
       "      <td>2017</td>\n",
       "      <td>1</td>\n",
       "      <td>...</td>\n",
       "      <td>0</td>\n",
       "      <td>1</td>\n",
       "      <td>0</td>\n",
       "      <td>0</td>\n",
       "      <td>0</td>\n",
       "      <td>0</td>\n",
       "      <td>0</td>\n",
       "      <td>0</td>\n",
       "      <td>0</td>\n",
       "      <td>0</td>\n",
       "    </tr>\n",
       "    <tr>\n",
       "      <th>3</th>\n",
       "      <td>ANG MO KIO</td>\n",
       "      <td>3 ROOM</td>\n",
       "      <td>465</td>\n",
       "      <td>ANG MO KIO AVE 10</td>\n",
       "      <td>04 TO 06</td>\n",
       "      <td>68.0</td>\n",
       "      <td>New Generation</td>\n",
       "      <td>265000.0</td>\n",
       "      <td>2017</td>\n",
       "      <td>1</td>\n",
       "      <td>...</td>\n",
       "      <td>0</td>\n",
       "      <td>1</td>\n",
       "      <td>0</td>\n",
       "      <td>0</td>\n",
       "      <td>0</td>\n",
       "      <td>0</td>\n",
       "      <td>0</td>\n",
       "      <td>0</td>\n",
       "      <td>0</td>\n",
       "      <td>0</td>\n",
       "    </tr>\n",
       "    <tr>\n",
       "      <th>4</th>\n",
       "      <td>ANG MO KIO</td>\n",
       "      <td>3 ROOM</td>\n",
       "      <td>601</td>\n",
       "      <td>ANG MO KIO AVE 5</td>\n",
       "      <td>01 TO 03</td>\n",
       "      <td>67.0</td>\n",
       "      <td>New Generation</td>\n",
       "      <td>265000.0</td>\n",
       "      <td>2017</td>\n",
       "      <td>1</td>\n",
       "      <td>...</td>\n",
       "      <td>0</td>\n",
       "      <td>1</td>\n",
       "      <td>0</td>\n",
       "      <td>0</td>\n",
       "      <td>0</td>\n",
       "      <td>0</td>\n",
       "      <td>0</td>\n",
       "      <td>0</td>\n",
       "      <td>0</td>\n",
       "      <td>0</td>\n",
       "    </tr>\n",
       "  </tbody>\n",
       "</table>\n",
       "<p>5 rows × 67 columns</p>\n",
       "</div>"
      ],
      "text/plain": [
       "         town flat_type block        street_name storey_range  floor_area_sqm  \\\n",
       "0  ANG MO KIO    2 ROOM   406  ANG MO KIO AVE 10     10 TO 12            44.0   \n",
       "1  ANG MO KIO    3 ROOM   108   ANG MO KIO AVE 4     01 TO 03            67.0   \n",
       "2  ANG MO KIO    3 ROOM   602   ANG MO KIO AVE 5     01 TO 03            67.0   \n",
       "3  ANG MO KIO    3 ROOM   465  ANG MO KIO AVE 10     04 TO 06            68.0   \n",
       "4  ANG MO KIO    3 ROOM   601   ANG MO KIO AVE 5     01 TO 03            67.0   \n",
       "\n",
       "       flat_model  resale_price  sale_year  sale_month  ...  \\\n",
       "0        Improved      232000.0       2017           1  ...   \n",
       "1  New Generation      250000.0       2017           1  ...   \n",
       "2  New Generation      262000.0       2017           1  ...   \n",
       "3  New Generation      265000.0       2017           1  ...   \n",
       "4  New Generation      265000.0       2017           1  ...   \n",
       "\n",
       "   x2_Multi Generation  x2_New Generation  x2_Premium Apartment  \\\n",
       "0                    0                  0                     0   \n",
       "1                    0                  1                     0   \n",
       "2                    0                  1                     0   \n",
       "3                    0                  1                     0   \n",
       "4                    0                  1                     0   \n",
       "\n",
       "   x2_Premium Apartment Loft  x2_Premium Maisonette  x2_Simplified  \\\n",
       "0                          0                      0              0   \n",
       "1                          0                      0              0   \n",
       "2                          0                      0              0   \n",
       "3                          0                      0              0   \n",
       "4                          0                      0              0   \n",
       "\n",
       "   x2_Standard  x2_Terrace  x2_Type S1  x2_Type S2  \n",
       "0            0           0           0           0  \n",
       "1            0           0           0           0  \n",
       "2            0           0           0           0  \n",
       "3            0           0           0           0  \n",
       "4            0           0           0           0  \n",
       "\n",
       "[5 rows x 67 columns]"
      ]
     },
     "execution_count": 13,
     "metadata": {},
     "output_type": "execute_result"
    }
   ],
   "source": [
    "ohe = OneHotEncoder(dtype=int)\n",
    "ohe_features = ['town', 'flat_type', 'flat_model']\n",
    "flat_type_encoding = ohe.fit_transform(df[ohe_features]).toarray()\n",
    "flat_type_encoding_df = pd.DataFrame(flat_type_encoding, columns=ohe.get_feature_names())\n",
    "df = df.join(flat_type_encoding_df)\n",
    "df.head()"
   ]
  },
  {
   "cell_type": "markdown",
   "metadata": {},
   "source": [
    "Next we work on encoding the other columns, such as `town` and `flat_model`, once again using `OneHotEncoder`. However, `storey_range` will be encoded with `OrdinalEncoder` instead due to its ordinal nature. In general, the higher the level, the better the resale price."
   ]
  },
  {
   "cell_type": "markdown",
   "metadata": {},
   "source": [
    "### Column distribution"
   ]
  },
  {
   "cell_type": "code",
   "execution_count": 14,
   "metadata": {},
   "outputs": [
    {
     "data": {
      "text/html": [
       "<div>\n",
       "<style scoped>\n",
       "    .dataframe tbody tr th:only-of-type {\n",
       "        vertical-align: middle;\n",
       "    }\n",
       "\n",
       "    .dataframe tbody tr th {\n",
       "        vertical-align: top;\n",
       "    }\n",
       "\n",
       "    .dataframe thead th {\n",
       "        text-align: right;\n",
       "    }\n",
       "</style>\n",
       "<table border=\"1\" class=\"dataframe\">\n",
       "  <thead>\n",
       "    <tr style=\"text-align: right;\">\n",
       "      <th></th>\n",
       "      <th>count</th>\n",
       "      <th>mean</th>\n",
       "      <th>std</th>\n",
       "      <th>min</th>\n",
       "      <th>25%</th>\n",
       "      <th>50%</th>\n",
       "      <th>75%</th>\n",
       "      <th>max</th>\n",
       "    </tr>\n",
       "  </thead>\n",
       "  <tbody>\n",
       "    <tr>\n",
       "      <th>floor_area_sqm</th>\n",
       "      <td>131560.0</td>\n",
       "      <td>97.775922</td>\n",
       "      <td>24.090810</td>\n",
       "      <td>31.0</td>\n",
       "      <td>82.0</td>\n",
       "      <td>94.0</td>\n",
       "      <td>113.0</td>\n",
       "      <td>249.0</td>\n",
       "    </tr>\n",
       "    <tr>\n",
       "      <th>resale_price</th>\n",
       "      <td>131560.0</td>\n",
       "      <td>469078.906158</td>\n",
       "      <td>162393.221475</td>\n",
       "      <td>140000.0</td>\n",
       "      <td>350000.0</td>\n",
       "      <td>438000.0</td>\n",
       "      <td>550088.0</td>\n",
       "      <td>1418000.0</td>\n",
       "    </tr>\n",
       "    <tr>\n",
       "      <th>sale_year</th>\n",
       "      <td>131560.0</td>\n",
       "      <td>2019.483278</td>\n",
       "      <td>1.622915</td>\n",
       "      <td>2017.0</td>\n",
       "      <td>2018.0</td>\n",
       "      <td>2020.0</td>\n",
       "      <td>2021.0</td>\n",
       "      <td>2022.0</td>\n",
       "    </tr>\n",
       "    <tr>\n",
       "      <th>sale_month</th>\n",
       "      <td>131560.0</td>\n",
       "      <td>6.488218</td>\n",
       "      <td>3.364460</td>\n",
       "      <td>1.0</td>\n",
       "      <td>4.0</td>\n",
       "      <td>7.0</td>\n",
       "      <td>9.0</td>\n",
       "      <td>12.0</td>\n",
       "    </tr>\n",
       "    <tr>\n",
       "      <th>years_remaining</th>\n",
       "      <td>131560.0</td>\n",
       "      <td>74.384783</td>\n",
       "      <td>13.504581</td>\n",
       "      <td>43.0</td>\n",
       "      <td>64.0</td>\n",
       "      <td>74.0</td>\n",
       "      <td>85.0</td>\n",
       "      <td>97.0</td>\n",
       "    </tr>\n",
       "    <tr>\n",
       "      <th>...</th>\n",
       "      <td>...</td>\n",
       "      <td>...</td>\n",
       "      <td>...</td>\n",
       "      <td>...</td>\n",
       "      <td>...</td>\n",
       "      <td>...</td>\n",
       "      <td>...</td>\n",
       "      <td>...</td>\n",
       "    </tr>\n",
       "    <tr>\n",
       "      <th>x2_Simplified</th>\n",
       "      <td>131560.0</td>\n",
       "      <td>0.039001</td>\n",
       "      <td>0.193599</td>\n",
       "      <td>0.0</td>\n",
       "      <td>0.0</td>\n",
       "      <td>0.0</td>\n",
       "      <td>0.0</td>\n",
       "      <td>1.0</td>\n",
       "    </tr>\n",
       "    <tr>\n",
       "      <th>x2_Standard</th>\n",
       "      <td>131560.0</td>\n",
       "      <td>0.028466</td>\n",
       "      <td>0.166301</td>\n",
       "      <td>0.0</td>\n",
       "      <td>0.0</td>\n",
       "      <td>0.0</td>\n",
       "      <td>0.0</td>\n",
       "      <td>1.0</td>\n",
       "    </tr>\n",
       "    <tr>\n",
       "      <th>x2_Terrace</th>\n",
       "      <td>131560.0</td>\n",
       "      <td>0.000578</td>\n",
       "      <td>0.024028</td>\n",
       "      <td>0.0</td>\n",
       "      <td>0.0</td>\n",
       "      <td>0.0</td>\n",
       "      <td>0.0</td>\n",
       "      <td>1.0</td>\n",
       "    </tr>\n",
       "    <tr>\n",
       "      <th>x2_Type S1</th>\n",
       "      <td>131560.0</td>\n",
       "      <td>0.001817</td>\n",
       "      <td>0.042584</td>\n",
       "      <td>0.0</td>\n",
       "      <td>0.0</td>\n",
       "      <td>0.0</td>\n",
       "      <td>0.0</td>\n",
       "      <td>1.0</td>\n",
       "    </tr>\n",
       "    <tr>\n",
       "      <th>x2_Type S2</th>\n",
       "      <td>131560.0</td>\n",
       "      <td>0.001049</td>\n",
       "      <td>0.032371</td>\n",
       "      <td>0.0</td>\n",
       "      <td>0.0</td>\n",
       "      <td>0.0</td>\n",
       "      <td>0.0</td>\n",
       "      <td>1.0</td>\n",
       "    </tr>\n",
       "  </tbody>\n",
       "</table>\n",
       "<p>61 rows × 8 columns</p>\n",
       "</div>"
      ],
      "text/plain": [
       "                    count           mean            std       min       25%  \\\n",
       "floor_area_sqm   131560.0      97.775922      24.090810      31.0      82.0   \n",
       "resale_price     131560.0  469078.906158  162393.221475  140000.0  350000.0   \n",
       "sale_year        131560.0    2019.483278       1.622915    2017.0    2018.0   \n",
       "sale_month       131560.0       6.488218       3.364460       1.0       4.0   \n",
       "years_remaining  131560.0      74.384783      13.504581      43.0      64.0   \n",
       "...                   ...            ...            ...       ...       ...   \n",
       "x2_Simplified    131560.0       0.039001       0.193599       0.0       0.0   \n",
       "x2_Standard      131560.0       0.028466       0.166301       0.0       0.0   \n",
       "x2_Terrace       131560.0       0.000578       0.024028       0.0       0.0   \n",
       "x2_Type S1       131560.0       0.001817       0.042584       0.0       0.0   \n",
       "x2_Type S2       131560.0       0.001049       0.032371       0.0       0.0   \n",
       "\n",
       "                      50%       75%        max  \n",
       "floor_area_sqm       94.0     113.0      249.0  \n",
       "resale_price     438000.0  550088.0  1418000.0  \n",
       "sale_year          2020.0    2021.0     2022.0  \n",
       "sale_month            7.0       9.0       12.0  \n",
       "years_remaining      74.0      85.0       97.0  \n",
       "...                   ...       ...        ...  \n",
       "x2_Simplified         0.0       0.0        1.0  \n",
       "x2_Standard           0.0       0.0        1.0  \n",
       "x2_Terrace            0.0       0.0        1.0  \n",
       "x2_Type S1            0.0       0.0        1.0  \n",
       "x2_Type S2            0.0       0.0        1.0  \n",
       "\n",
       "[61 rows x 8 columns]"
      ]
     },
     "execution_count": 14,
     "metadata": {},
     "output_type": "execute_result"
    }
   ],
   "source": [
    "df.describe().transpose()"
   ]
  },
  {
   "cell_type": "code",
   "execution_count": 15,
   "metadata": {},
   "outputs": [
    {
     "data": {
      "text/plain": [
       "town             0\n",
       "flat_type        0\n",
       "block            0\n",
       "street_name      0\n",
       "storey_range     0\n",
       "                ..\n",
       "x2_Simplified    0\n",
       "x2_Standard      0\n",
       "x2_Terrace       0\n",
       "x2_Type S1       0\n",
       "x2_Type S2       0\n",
       "Length: 67, dtype: int64"
      ]
     },
     "execution_count": 15,
     "metadata": {},
     "output_type": "execute_result"
    }
   ],
   "source": [
    "df.isna().sum()"
   ]
  },
  {
   "cell_type": "markdown",
   "metadata": {},
   "source": [
    "Under the `df.info()`, we see that most of our dataframe columns contain objects. We need to handle them one by one. Thanks to the data collection and meticulous efforts, there are no missing values in the columns, and this means we do not have to worry about filling in the *NaN*'s with mean or median values.\n",
    "\n",
    "I am also interested whether there are any changes to the price per unit area of the flats across different areas in Singapore. It will be good to construct an additional column PSM (Price per Square Meters) just to normalise the price by the size of the flat."
   ]
  },
  {
   "cell_type": "code",
   "execution_count": 16,
   "metadata": {},
   "outputs": [],
   "source": [
    "# df['PSM'] = df['resale_price']/df['floor_area_sqm']\n",
    "# df.head(10)"
   ]
  },
  {
   "cell_type": "code",
   "execution_count": 17,
   "metadata": {},
   "outputs": [
    {
     "name": "stdout",
     "output_type": "stream",
     "text": [
      "['ANG MO KIO' 'BEDOK' 'BISHAN' 'BUKIT BATOK' 'BUKIT MERAH' 'BUKIT PANJANG'\n",
      " 'BUKIT TIMAH' 'CENTRAL AREA' 'CHOA CHU KANG' 'CLEMENTI' 'GEYLANG'\n",
      " 'HOUGANG' 'JURONG EAST' 'JURONG WEST' 'KALLANG/WHAMPOA' 'MARINE PARADE'\n",
      " 'PASIR RIS' 'PUNGGOL' 'QUEENSTOWN' 'SEMBAWANG' 'SENGKANG' 'SERANGOON'\n",
      " 'TAMPINES' 'TOA PAYOH' 'WOODLANDS' 'YISHUN']\n"
     ]
    },
    {
     "data": {
      "text/plain": [
       "26"
      ]
     },
     "execution_count": 17,
     "metadata": {},
     "output_type": "execute_result"
    }
   ],
   "source": [
    "print(df['town'].unique())\n",
    "df['town'].nunique()"
   ]
  },
  {
   "cell_type": "markdown",
   "metadata": {},
   "source": [
    "We see that our data set contains around 26 unique town locations. Given the property mantra of \"location, location, location\", the idea will be to tag them by the first 3 digits of their postal code to turn the data in this column from `object` to `int` so as to be fed into our model."
   ]
  },
  {
   "cell_type": "code",
   "execution_count": 18,
   "metadata": {},
   "outputs": [
    {
     "name": "stderr",
     "output_type": "stream",
     "text": [
      "/home/ahwz84/miniconda3/envs/messy/lib/python3.9/site-packages/seaborn/distributions.py:2619: FutureWarning: `distplot` is a deprecated function and will be removed in a future version. Please adapt your code to use either `displot` (a figure-level function with similar flexibility) or `histplot` (an axes-level function for histograms).\n",
      "  warnings.warn(msg, FutureWarning)\n"
     ]
    },
    {
     "data": {
      "text/plain": [
       "Text(0.5, 0, 'Resale Price (S$M)')"
      ]
     },
     "execution_count": 18,
     "metadata": {},
     "output_type": "execute_result"
    },
    {
     "data": {
      "image/png": "[encoded data removed]",
      "text/plain": [
       "<Figure size 720x360 with 1 Axes>"
      ]
     },
     "metadata": {
      "needs_background": "light"
     },
     "output_type": "display_data"
    }
   ],
   "source": [
    "plt.figure(figsize=(10, 5))\n",
    "sns.distplot(df['resale_price'])\n",
    "plt.xlabel('Resale Price (S$M)')"
   ]
  },
  {
   "cell_type": "markdown",
   "metadata": {},
   "source": [
    "Apart from finding out how the prices are distributed, we would also want to find out how the other features correlate with the resale price. This is so that we can sort the features in terms of the correlation it has with the resale price subsequently."
   ]
  },
  {
   "cell_type": "code",
   "execution_count": 19,
   "metadata": {},
   "outputs": [
    {
     "data": {
      "text/plain": [
       "<AxesSubplot:>"
      ]
     },
     "execution_count": 19,
     "metadata": {},
     "output_type": "execute_result"
    },
    {
     "data": {
      "image/png": "[encoded data removed]",
      "text/plain": [
       "<Figure size 432x288 with 2 Axes>"
      ]
     },
     "metadata": {
      "needs_background": "light"
     },
     "output_type": "display_data"
    }
   ],
   "source": [
    "corrMat = df.corr()\n",
    "sns.heatmap(corrMat, annot=True)"
   ]
  },
  {
   "cell_type": "markdown",
   "metadata": {},
   "source": [
    "There are not many cells to plot here since the correlation can only be calculated for numerical features. Here we see that amongst the numerical features, **SIZE DOES MATTER**! \n",
    "\n",
    "Of course the correlation of PSM should be largely the same as floor area since it is derived as the ratio of the resale price and floor area."
   ]
  },
  {
   "cell_type": "code",
   "execution_count": 20,
   "metadata": {},
   "outputs": [
    {
     "data": {
      "text/plain": [
       "Text(0, 0.5, 'Resale Price (S$M)')"
      ]
     },
     "execution_count": 20,
     "metadata": {},
     "output_type": "execute_result"
    },
    {
     "data": {
      "image/png": "[encoded data removed]",
      "text/plain": [
       "<Figure size 1080x576 with 1 Axes>"
      ]
     },
     "metadata": {
      "needs_background": "light"
     },
     "output_type": "display_data"
    }
   ],
   "source": [
    "plt.figure(figsize=(15, 8))\n",
    "ax = sns.boxplot(x=df['town'], y=df['resale_price']/1E6)\n",
    "ax.set_xticklabels(ax.get_xticklabels(),rotation=45)\n",
    "ax.set_ylabel('Resale Price (S$M)')"
   ]
  },
  {
   "cell_type": "markdown",
   "metadata": {},
   "source": [
    "Now this plot looks messy since it is arranged in alphabetical order of the town the flat resides in. Let's try to order this by the median price instead and see if the plot looks tidier."
   ]
  },
  {
   "cell_type": "code",
   "execution_count": 21,
   "metadata": {},
   "outputs": [],
   "source": [
    "resale_median = df.groupby(['town']).median().reset_index()\n",
    "resale_median.sort_values(by='resale_price', ascending=True, inplace=True, ignore_index=True)\n",
    "resale_median['resale_price'] /= 1000000 "
   ]
  },
  {
   "cell_type": "code",
   "execution_count": 22,
   "metadata": {},
   "outputs": [
    {
     "data": {
      "text/plain": [
       "<AxesSubplot:xlabel='town', ylabel='resale_price'>"
      ]
     },
     "execution_count": 22,
     "metadata": {},
     "output_type": "execute_result"
    },
    {
     "data": {
      "image/png": "[encoded data removed]",
      "text/plain": [
       "<Figure size 432x288 with 1 Axes>"
      ]
     },
     "metadata": {
      "needs_background": "light"
     },
     "output_type": "display_data"
    }
   ],
   "source": [
    "sns.boxplot(x='town', y='resale_price', data=resale_median)"
   ]
  },
  {
   "cell_type": "code",
   "execution_count": 23,
   "metadata": {},
   "outputs": [
    {
     "data": {
      "text/plain": [
       "Index(['floor_area_sqm', 'resale_price', 'sale_year', 'sale_month',\n",
       "       'years_remaining', 'months_remaining', 'storey', 'x0_ANG MO KIO',\n",
       "       'x0_BEDOK', 'x0_BISHAN', 'x0_BUKIT BATOK', 'x0_BUKIT MERAH',\n",
       "       'x0_BUKIT PANJANG', 'x0_BUKIT TIMAH', 'x0_CENTRAL AREA',\n",
       "       'x0_CHOA CHU KANG', 'x0_CLEMENTI', 'x0_GEYLANG', 'x0_HOUGANG',\n",
       "       'x0_JURONG EAST', 'x0_JURONG WEST', 'x0_KALLANG/WHAMPOA',\n",
       "       'x0_MARINE PARADE', 'x0_PASIR RIS', 'x0_PUNGGOL', 'x0_QUEENSTOWN',\n",
       "       'x0_SEMBAWANG', 'x0_SENGKANG', 'x0_SERANGOON', 'x0_TAMPINES',\n",
       "       'x0_TOA PAYOH', 'x0_WOODLANDS', 'x0_YISHUN', 'x1_1 ROOM', 'x1_2 ROOM',\n",
       "       'x1_3 ROOM', 'x1_4 ROOM', 'x1_5 ROOM', 'x1_EXECUTIVE',\n",
       "       'x1_MULTI-GENERATION', 'x2_2-room', 'x2_3Gen', 'x2_Adjoined flat',\n",
       "       'x2_Apartment', 'x2_DBSS', 'x2_Improved', 'x2_Improved-Maisonette',\n",
       "       'x2_Maisonette', 'x2_Model A', 'x2_Model A-Maisonette', 'x2_Model A2',\n",
       "       'x2_Multi Generation', 'x2_New Generation', 'x2_Premium Apartment',\n",
       "       'x2_Premium Apartment Loft', 'x2_Premium Maisonette', 'x2_Simplified',\n",
       "       'x2_Standard', 'x2_Terrace', 'x2_Type S1', 'x2_Type S2'],\n",
       "      dtype='object')"
      ]
     },
     "execution_count": 23,
     "metadata": {},
     "output_type": "execute_result"
    }
   ],
   "source": [
    "df.drop([\"town\", \"flat_type\", \"flat_model\", \"storey_range\", \"block\", \"street_name\"], axis=1, inplace=True)\n",
    "df.columns\n",
    "# df.shape"
   ]
  },
  {
   "cell_type": "code",
   "execution_count": 24,
   "metadata": {},
   "outputs": [],
   "source": [
    "X_train, X_test, y_train, y_test = train_test_split(df.drop('resale_price', axis=1), df['resale_price'], test_size=0.25, random_state=42)"
   ]
  },
  {
   "cell_type": "code",
   "execution_count": 25,
   "metadata": {},
   "outputs": [
    {
     "data": {
      "text/plain": [
       "0.8590761518904025"
      ]
     },
     "execution_count": 25,
     "metadata": {},
     "output_type": "execute_result"
    }
   ],
   "source": [
    "lr = LinearRegression()\n",
    "lr.fit(X_train, y_train)\n",
    "lr.score(X_test, y_test)"
   ]
  },
  {
   "cell_type": "code",
   "execution_count": 26,
   "metadata": {},
   "outputs": [
    {
     "data": {
      "text/plain": [
       "3717954574.1006207"
      ]
     },
     "execution_count": 26,
     "metadata": {},
     "output_type": "execute_result"
    }
   ],
   "source": [
    "mean_squared_error(y_test, lr.predict(X_test))"
   ]
  },
  {
   "cell_type": "markdown",
   "metadata": {},
   "source": [
    "# Concluding Thoughts\n",
    "The mean_squared_error of $59.3B translates to a RMS error of around $24.3K. Given that the resale prices across all flat types ranges around $300 - 600K, this translates to an error of almost 10%. The error can be further reduced by properly setting the hyperparameters of the `LinearRegression` model, or processing the features with `PolynomialFeatures` before fitting. \n",
    "\n",
    "In the interim, let's recall the initial motivation for this project -- to find the projected price of my flat given the relevant features. I shall do that below, but for a 4-room flat at the \"01 TO 03\" storey range in Yishun, does anyone want to make a guess?"
   ]
  },
  {
   "cell_type": "code",
   "execution_count": 27,
   "metadata": {},
   "outputs": [
    {
     "data": {
      "text/html": [
       "<div>\n",
       "<style scoped>\n",
       "    .dataframe tbody tr th:only-of-type {\n",
       "        vertical-align: middle;\n",
       "    }\n",
       "\n",
       "    .dataframe tbody tr th {\n",
       "        vertical-align: top;\n",
       "    }\n",
       "\n",
       "    .dataframe thead th {\n",
       "        text-align: right;\n",
       "    }\n",
       "</style>\n",
       "<table border=\"1\" class=\"dataframe\">\n",
       "  <thead>\n",
       "    <tr style=\"text-align: right;\">\n",
       "      <th></th>\n",
       "      <th>month</th>\n",
       "      <th>town</th>\n",
       "      <th>flat_type</th>\n",
       "      <th>block</th>\n",
       "      <th>street_name</th>\n",
       "      <th>storey_range</th>\n",
       "      <th>floor_area_sqm</th>\n",
       "      <th>flat_model</th>\n",
       "      <th>lease_commence_date</th>\n",
       "      <th>remaining_lease</th>\n",
       "    </tr>\n",
       "  </thead>\n",
       "  <tbody>\n",
       "    <tr>\n",
       "      <th>0</th>\n",
       "      <td>2022-07</td>\n",
       "      <td>YISHUN</td>\n",
       "      <td>4 ROOM</td>\n",
       "      <td>342B</td>\n",
       "      <td>YISHUN RING RD</td>\n",
       "      <td>01 TO 03</td>\n",
       "      <td>92</td>\n",
       "      <td>Model A</td>\n",
       "      <td>2014</td>\n",
       "      <td>91 years 05 months</td>\n",
       "    </tr>\n",
       "  </tbody>\n",
       "</table>\n",
       "</div>"
      ],
      "text/plain": [
       "     month    town flat_type block     street_name storey_range  \\\n",
       "0  2022-07  YISHUN    4 ROOM  342B  YISHUN RING RD     01 TO 03   \n",
       "\n",
       "   floor_area_sqm flat_model  lease_commence_date     remaining_lease  \n",
       "0              92    Model A                 2014  91 years 05 months  "
      ]
     },
     "execution_count": 27,
     "metadata": {},
     "output_type": "execute_result"
    }
   ],
   "source": [
    "myflat = pd.read_csv(\"data/myflat.csv\", header=0)\n",
    "myflat.head()"
   ]
  },
  {
   "cell_type": "code",
   "execution_count": 28,
   "metadata": {},
   "outputs": [],
   "source": [
    "myflat['sale_year'] = myflat['month'].apply(lambda x: int(x.split(\"-\")[0]))\n",
    "myflat['sale_month'] = myflat['month'].apply(lambda x: int(x.split(\"-\")[-1]))\n",
    "myflat.drop('month', axis=1, inplace=True)\n",
    "myflat['storey'] = oe.transform(myflat[[\"storey_range\"]])"
   ]
  },
  {
   "cell_type": "code",
   "execution_count": 29,
   "metadata": {},
   "outputs": [
    {
     "name": "stderr",
     "output_type": "stream",
     "text": [
      "/home/ahwz84/miniconda3/envs/messy/lib/python3.9/site-packages/sklearn/utils/deprecation.py:87: FutureWarning: Function get_feature_names is deprecated; get_feature_names is deprecated in 1.0 and will be removed in 1.2. Please use get_feature_names_out instead.\n",
      "  warnings.warn(msg, category=FutureWarning)\n"
     ]
    },
    {
     "data": {
      "text/html": [
       "<div>\n",
       "<style scoped>\n",
       "    .dataframe tbody tr th:only-of-type {\n",
       "        vertical-align: middle;\n",
       "    }\n",
       "\n",
       "    .dataframe tbody tr th {\n",
       "        vertical-align: top;\n",
       "    }\n",
       "\n",
       "    .dataframe thead th {\n",
       "        text-align: right;\n",
       "    }\n",
       "</style>\n",
       "<table border=\"1\" class=\"dataframe\">\n",
       "  <thead>\n",
       "    <tr style=\"text-align: right;\">\n",
       "      <th></th>\n",
       "      <th>town</th>\n",
       "      <th>flat_type</th>\n",
       "      <th>block</th>\n",
       "      <th>street_name</th>\n",
       "      <th>storey_range</th>\n",
       "      <th>floor_area_sqm</th>\n",
       "      <th>flat_model</th>\n",
       "      <th>lease_commence_date</th>\n",
       "      <th>remaining_lease</th>\n",
       "      <th>sale_year</th>\n",
       "      <th>...</th>\n",
       "      <th>x2_Premium Apartment</th>\n",
       "      <th>x2_Premium Apartment Loft</th>\n",
       "      <th>x2_Premium Maisonette</th>\n",
       "      <th>x2_Simplified</th>\n",
       "      <th>x2_Standard</th>\n",
       "      <th>x2_Terrace</th>\n",
       "      <th>x2_Type S1</th>\n",
       "      <th>x2_Type S2</th>\n",
       "      <th>years_remaining</th>\n",
       "      <th>months_remaining</th>\n",
       "    </tr>\n",
       "  </thead>\n",
       "  <tbody>\n",
       "    <tr>\n",
       "      <th>0</th>\n",
       "      <td>YISHUN</td>\n",
       "      <td>4 ROOM</td>\n",
       "      <td>342B</td>\n",
       "      <td>YISHUN RING RD</td>\n",
       "      <td>01 TO 03</td>\n",
       "      <td>92</td>\n",
       "      <td>Model A</td>\n",
       "      <td>2014</td>\n",
       "      <td>91 years 05 months</td>\n",
       "      <td>2022</td>\n",
       "      <td>...</td>\n",
       "      <td>0</td>\n",
       "      <td>0</td>\n",
       "      <td>0</td>\n",
       "      <td>0</td>\n",
       "      <td>0</td>\n",
       "      <td>0</td>\n",
       "      <td>0</td>\n",
       "      <td>0</td>\n",
       "      <td>91</td>\n",
       "      <td>5</td>\n",
       "    </tr>\n",
       "  </tbody>\n",
       "</table>\n",
       "<p>1 rows × 68 columns</p>\n",
       "</div>"
      ],
      "text/plain": [
       "     town flat_type block     street_name storey_range  floor_area_sqm  \\\n",
       "0  YISHUN    4 ROOM  342B  YISHUN RING RD     01 TO 03              92   \n",
       "\n",
       "  flat_model  lease_commence_date     remaining_lease  sale_year  ...  \\\n",
       "0    Model A                 2014  91 years 05 months       2022  ...   \n",
       "\n",
       "   x2_Premium Apartment  x2_Premium Apartment Loft  x2_Premium Maisonette  \\\n",
       "0                     0                          0                      0   \n",
       "\n",
       "   x2_Simplified  x2_Standard  x2_Terrace  x2_Type S1  x2_Type S2  \\\n",
       "0              0            0           0           0           0   \n",
       "\n",
       "   years_remaining  months_remaining  \n",
       "0               91                 5  \n",
       "\n",
       "[1 rows x 68 columns]"
      ]
     },
     "execution_count": 29,
     "metadata": {},
     "output_type": "execute_result"
    }
   ],
   "source": [
    "myflat_encoding = ohe.transform(myflat[ohe_features]).toarray()\n",
    "myflat_encoding_df = pd.DataFrame(myflat_encoding, columns=ohe.get_feature_names())\n",
    "myflat = myflat.join(myflat_encoding_df)\n",
    "myflat['years_remaining'] = myflat['remaining_lease'].apply(lambda x: int(x.split()[0]))\n",
    "myflat['months_remaining'] = myflat['remaining_lease'].apply(lambda x: int(x.split(\" \")[-2]))\n",
    "# myflat.drop([\"remaining_lease\", \"lease_commence_date\", \"town\", \"flat_type\", \"flat_model\", \"storey_range\", \"block\", \"street_name\"], axis=1, inplace=True)\n",
    "myflat.head()"
   ]
  },
  {
   "cell_type": "code",
   "execution_count": 30,
   "metadata": {},
   "outputs": [
    {
     "data": {
      "text/plain": [
       "Index(['floor_area_sqm', 'sale_year', 'sale_month', 'storey', 'x0_ANG MO KIO',\n",
       "       'x0_BEDOK', 'x0_BISHAN', 'x0_BUKIT BATOK', 'x0_BUKIT MERAH',\n",
       "       'x0_BUKIT PANJANG', 'x0_BUKIT TIMAH', 'x0_CENTRAL AREA',\n",
       "       'x0_CHOA CHU KANG', 'x0_CLEMENTI', 'x0_GEYLANG', 'x0_HOUGANG',\n",
       "       'x0_JURONG EAST', 'x0_JURONG WEST', 'x0_KALLANG/WHAMPOA',\n",
       "       'x0_MARINE PARADE', 'x0_PASIR RIS', 'x0_PUNGGOL', 'x0_QUEENSTOWN',\n",
       "       'x0_SEMBAWANG', 'x0_SENGKANG', 'x0_SERANGOON', 'x0_TAMPINES',\n",
       "       'x0_TOA PAYOH', 'x0_WOODLANDS', 'x0_YISHUN', 'x1_1 ROOM', 'x1_2 ROOM',\n",
       "       'x1_3 ROOM', 'x1_4 ROOM', 'x1_5 ROOM', 'x1_EXECUTIVE',\n",
       "       'x1_MULTI-GENERATION', 'x2_2-room', 'x2_3Gen', 'x2_Adjoined flat',\n",
       "       'x2_Apartment', 'x2_DBSS', 'x2_Improved', 'x2_Improved-Maisonette',\n",
       "       'x2_Maisonette', 'x2_Model A', 'x2_Model A-Maisonette', 'x2_Model A2',\n",
       "       'x2_Multi Generation', 'x2_New Generation', 'x2_Premium Apartment',\n",
       "       'x2_Premium Apartment Loft', 'x2_Premium Maisonette', 'x2_Simplified',\n",
       "       'x2_Standard', 'x2_Terrace', 'x2_Type S1', 'x2_Type S2',\n",
       "       'years_remaining', 'months_remaining'],\n",
       "      dtype='object')"
      ]
     },
     "execution_count": 30,
     "metadata": {},
     "output_type": "execute_result"
    }
   ],
   "source": [
    "myflat.drop([\"remaining_lease\", \"lease_commence_date\", \"town\", \"flat_type\", \"flat_model\", \"storey_range\", \"block\", \"street_name\"], axis=1, inplace=True)\n",
    "myflat.columns"
   ]
  },
  {
   "cell_type": "code",
   "execution_count": 35,
   "metadata": {},
   "outputs": [
    {
     "data": {
      "text/html": [
       "<div>\n",
       "<style scoped>\n",
       "    .dataframe tbody tr th:only-of-type {\n",
       "        vertical-align: middle;\n",
       "    }\n",
       "\n",
       "    .dataframe tbody tr th {\n",
       "        vertical-align: top;\n",
       "    }\n",
       "\n",
       "    .dataframe thead th {\n",
       "        text-align: right;\n",
       "    }\n",
       "</style>\n",
       "<table border=\"1\" class=\"dataframe\">\n",
       "  <thead>\n",
       "    <tr style=\"text-align: right;\">\n",
       "      <th></th>\n",
       "      <th>floor_area_sqm</th>\n",
       "      <th>sale_year</th>\n",
       "      <th>sale_month</th>\n",
       "      <th>storey</th>\n",
       "      <th>x0_ANG MO KIO</th>\n",
       "      <th>x0_BEDOK</th>\n",
       "      <th>x0_BISHAN</th>\n",
       "      <th>x0_BUKIT BATOK</th>\n",
       "      <th>x0_BUKIT MERAH</th>\n",
       "      <th>x0_BUKIT PANJANG</th>\n",
       "      <th>...</th>\n",
       "      <th>x2_Premium Apartment</th>\n",
       "      <th>x2_Premium Apartment Loft</th>\n",
       "      <th>x2_Premium Maisonette</th>\n",
       "      <th>x2_Simplified</th>\n",
       "      <th>x2_Standard</th>\n",
       "      <th>x2_Terrace</th>\n",
       "      <th>x2_Type S1</th>\n",
       "      <th>x2_Type S2</th>\n",
       "      <th>years_remaining</th>\n",
       "      <th>months_remaining</th>\n",
       "    </tr>\n",
       "  </thead>\n",
       "  <tbody>\n",
       "    <tr>\n",
       "      <th>0</th>\n",
       "      <td>92</td>\n",
       "      <td>2022</td>\n",
       "      <td>7</td>\n",
       "      <td>0</td>\n",
       "      <td>0</td>\n",
       "      <td>0</td>\n",
       "      <td>0</td>\n",
       "      <td>0</td>\n",
       "      <td>0</td>\n",
       "      <td>0</td>\n",
       "      <td>...</td>\n",
       "      <td>0</td>\n",
       "      <td>0</td>\n",
       "      <td>0</td>\n",
       "      <td>0</td>\n",
       "      <td>0</td>\n",
       "      <td>0</td>\n",
       "      <td>0</td>\n",
       "      <td>0</td>\n",
       "      <td>91</td>\n",
       "      <td>5</td>\n",
       "    </tr>\n",
       "  </tbody>\n",
       "</table>\n",
       "<p>1 rows × 60 columns</p>\n",
       "</div>"
      ],
      "text/plain": [
       "   floor_area_sqm  sale_year  sale_month  storey  x0_ANG MO KIO  x0_BEDOK  \\\n",
       "0              92       2022           7       0              0         0   \n",
       "\n",
       "   x0_BISHAN  x0_BUKIT BATOK  x0_BUKIT MERAH  x0_BUKIT PANJANG  ...  \\\n",
       "0          0               0               0                 0  ...   \n",
       "\n",
       "   x2_Premium Apartment  x2_Premium Apartment Loft  x2_Premium Maisonette  \\\n",
       "0                     0                          0                      0   \n",
       "\n",
       "   x2_Simplified  x2_Standard  x2_Terrace  x2_Type S1  x2_Type S2  \\\n",
       "0              0            0           0           0           0   \n",
       "\n",
       "   years_remaining  months_remaining  \n",
       "0               91                 5  \n",
       "\n",
       "[1 rows x 60 columns]"
      ]
     },
     "execution_count": 35,
     "metadata": {},
     "output_type": "execute_result"
    }
   ],
   "source": [
    "assert len(df.columns) == len(myflat.columns) + 1\n",
    "myflat.head()"
   ]
  }
 ],
 "metadata": {
  "kernelspec": {
   "display_name": "Python 3.9.12 ('messy')",
   "language": "python",
   "name": "python3"
  },
  "language_info": {
   "codemirror_mode": {
    "name": "ipython",
    "version": 3
   },
   "file_extension": ".py",
   "mimetype": "text/x-python",
   "name": "python",
   "nbconvert_exporter": "python",
   "pygments_lexer": "ipython3",
   "version": "3.9.12"
  },
  "vscode": {
   "interpreter": {
    "hash": "c8831b77c9561aafa6266b23e0c893f5800518ee262b8fc72f9e180a43c94a18"
   }
  }
 },
 "nbformat": 4,
 "nbformat_minor": 4
}
